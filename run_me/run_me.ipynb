{
 "cells": [
  {
   "attachments": {},
   "cell_type": "markdown",
   "metadata": {},
   "source": [
    "# SECCON 2017\u000b",
    "Run me! (Programming 100)!"
   ]
  },
  {
   "cell_type": "code",
   "execution_count": null,
   "metadata": {
    "collapsed": true
   },
   "outputs": [],
   "source": [
    "# 実行すると固まるので■を押して止める\n",
    "\n",
    "#Run me!\n",
    "#-----  RunMe.py\n",
    "import sys\n",
    "sys.setrecursionlimit(99999)\n",
    "def f(n):\n",
    "    return n if n < 2 else f(n-2) + f(n-1)\n",
    "print (\"SECCON{\" + str(f(11011))[:32] + \"}\")\n",
    "#-----"
   ]
  },
  {
   "cell_type": "code",
   "execution_count": null,
   "metadata": {
    "collapsed": true
   },
   "outputs": [],
   "source": [
    "#時間の計測を行う\n",
    "import sys\n",
    "import time\n",
    "\n",
    "sys.setrecursionlimit(99999)\n",
    "def f(n):\n",
    "    return n if n < 2 else f(n-2) + f(n-1)\n",
    "\n",
    "\n",
    "for x in range(50):\n",
    "    start = time.time()\n",
    "    f(x)\n",
    "    print(str(x)+\":\"+str(time.time() - start))"
   ]
  },
  {
   "cell_type": "raw",
   "metadata": {},
   "source": [
    "#計算時間の目安\n",
    "\n",
    "0:4.05311584473e-06\n",
    "1:2.14576721191e-06\n",
    "2:2.14576721191e-06\n",
    "3:2.14576721191e-06\n",
    "4:2.14576721191e-06\n",
    "5:2.14576721191e-06\n",
    "6:4.05311584473e-06\n",
    "7:5.00679016113e-06\n",
    "8:7.86781311035e-06\n",
    "9:1.31130218506e-05\n",
    "10:1.8835067749e-05\n",
    "11:3.19480895996e-05\n",
    "12:8.10623168945e-05\n",
    "13:0.000119924545288\n",
    "14:0.000160217285156\n",
    "15:0.000244855880737\n",
    "16:0.000370025634766\n",
    "17:0.000547170639038\n",
    "18:0.000866889953613\n",
    "19:0.00137400627136\n",
    "20:0.00214815139771\n",
    "21:0.00359201431274\n",
    "22:0.00493383407593\n",
    "23:0.0091609954834\n",
    "24:0.0150849819183\n",
    "25:0.025288105011\n",
    "26:0.0359129905701\n",
    "27:0.0638740062714\n",
    "28:0.10002207756\n",
    "29:0.154710054398\n",
    "30:0.260014057159\n",
    "31:0.414180994034\n",
    "32:0.672685861588\n",
    "33:1.08901190758\n",
    "34:1.72171902657\n",
    "35:2.81750702858\n",
    "36:4.6194460392\n",
    "37:7.73733901978\n",
    "38:12.0578410625\n",
    "39:19.9848599434\n",
    "40:31.9259870052\n",
    "41:51.9973158836\n",
    "42:83.2612390518\n",
    "43:133.388652086\n",
    "44:221.665697098\n",
    "45:379.411405087\n",
    "46:599.006447077\n",
    "47:966.629742146\n",
    "48:1710.15956807\n",
    "49:2835.11010194"
   ]
  },
  {
   "cell_type": "code",
   "execution_count": null,
   "metadata": {
    "collapsed": true
   },
   "outputs": [],
   "source": [
    "memo = {}\n",
    "\n",
    "def f(n):\n",
    "    if n not in memo:\n",
    "        if n < 2:\n",
    "            return n\n",
    "        else:\n",
    "            memo[n] = f(n-2) + f(n-1)\n",
    "    return memo[n]\n",
    "\n",
    "print (\"SECCON{\" + str(f(11011))[:32] + \"}\")"
   ]
  },
  {
   "cell_type": "code",
   "execution_count": null,
   "metadata": {
    "collapsed": true
   },
   "outputs": [],
   "source": [
    "import sys\n",
    "from functools import lru_cache\n",
    "\n",
    "@lru_cache(maxsize=2)  \n",
    "def f(n):\n",
    "    return n if n < 2 else f(n-2) + f(n-1)\n",
    "print (\"SECCON{\" + str(f(11011))[:32] + \"}\")"
   ]
  },
  {
   "cell_type": "code",
   "execution_count": null,
   "metadata": {
    "collapsed": true
   },
   "outputs": [],
   "source": [
    "import sys\n",
    "from functools import lru_cache\n",
    "\n",
    "@lru_cache(maxsize=3)  \n",
    "def f(n):\n",
    "    return n if n < 2 else f(n-1) +f(n-2) \n",
    "print (\"SECCON{\" + str(f(11011))[:32] + \"}\")"
   ]
  }
 ],
 "metadata": {
  "kernelspec": {
   "display_name": "Python 3",
   "language": "python",
   "name": "python3"
  },
  "language_info": {
   "codemirror_mode": {
    "name": "ipython",
    "version": 3
   },
   "file_extension": ".py",
   "mimetype": "text/x-python",
   "name": "python",
   "nbconvert_exporter": "python",
   "pygments_lexer": "ipython3",
   "version": "3.6.5"
  }
 },
 "nbformat": 4,
 "nbformat_minor": 2
}
